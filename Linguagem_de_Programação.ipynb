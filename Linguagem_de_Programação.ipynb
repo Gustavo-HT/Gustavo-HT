{
  "nbformat": 4,
  "nbformat_minor": 0,
  "metadata": {
    "colab": {
      "provenance": [],
      "authorship_tag": "ABX9TyMYCE8bW/NDkvjHtoaVbRHx",
      "include_colab_link": true
    },
    "kernelspec": {
      "name": "python3",
      "display_name": "Python 3"
    },
    "language_info": {
      "name": "python"
    }
  },
  "cells": [
    {
      "cell_type": "markdown",
      "metadata": {
        "id": "view-in-github",
        "colab_type": "text"
      },
      "source": [
        "<a href=\"https://colab.research.google.com/github/Gustavo-HT/Gustavo-HT/blob/main/Linguagem_de_Programa%C3%A7%C3%A3o.ipynb\" target=\"_parent\"><img src=\"https://colab.research.google.com/assets/colab-badge.svg\" alt=\"Open In Colab\"/></a>"
      ]
    },
    {
      "cell_type": "markdown",
      "source": [
        "#1. *Linguagem de Programação*"
      ],
      "metadata": {
        "id": "lQo0fBmoR_r8"
      }
    },
    {
      "cell_type": "markdown",
      "source": [
        "*1.1 INTRODUÇÃO AO C*\n"
      ],
      "metadata": {
        "id": "zC0qe8K5SKj0"
      }
    },
    {
      "cell_type": "markdown",
      "source": [
        "A linguagem C nao se orienta pela indentação para delimitar suas estruturas."
      ],
      "metadata": {
        "id": "K25cWRV9SWV3"
      }
    },
    {
      "cell_type": "code",
      "source": [
        "%%gcc\n",
        "#include <stdio.h>\n",
        "#include <locale.h>\n",
        "\n",
        "int main()\n",
        "{\n",
        "    setlocale(LC_ALL,\"Portuguese\");\n",
        "\n",
        "    return 0;\n",
        "}"
      ],
      "metadata": {
        "id": "YXTjny0OTpjr",
        "colab": {
          "base_uri": "https://localhost:8080/"
        },
        "outputId": "3a109043-52d1-4d56-e052-78b6b6b419e9"
      },
      "execution_count": null,
      "outputs": [
        {
          "output_type": "stream",
          "name": "stderr",
          "text": [
            "UsageError: Cell magic `%%gcc` not found.\n"
          ]
        }
      ]
    },
    {
      "cell_type": "markdown",
      "source": [
        "A linguagem C nao se orienta pela indentação para delimitar suas estruturas.\n",
        "A linguagem se delimita suas intruções por PONTO E VÍRGULA ou CHAVES.\n",
        "\n"
      ],
      "metadata": {
        "id": "GOTwsB4kVnCk"
      }
    },
    {
      "cell_type": "markdown",
      "source": [
        "*FUNÇÃO DE SAÍDA*"
      ],
      "metadata": {
        "id": "Ys-NQkW3WiDK"
      }
    },
    {
      "cell_type": "markdown",
      "source": [
        "Python --- print('OLá, Mundo!)\n",
        "\n",
        "C -------- printf(\"Olá, Mundo!);\n",
        "\n",
        "*TIPOS DE DADOS*\n",
        "  \n",
        "  .Toda variável em linguagem C deve ser declarada e ter seu tipo definido logo no começo\n",
        "    \n",
        "    \n",
        "    Palavra chave | Tipo\n",
        "    char          | caractere\n",
        "    int           | inteiro\n",
        "    float         | real de precisão simples\n",
        "    double        | real de precisão dupla\n",
        "    void          | vazio (sem valor)\n",
        "    \n",
        "\n"
      ],
      "metadata": {
        "id": "TgfGXGqlWoQF"
      }
    },
    {
      "cell_type": "markdown",
      "source": [
        "*OPERADORES*\n",
        "\n",
        "**Operador de Atribuição**\n",
        "\n",
        "  - Atribui o valor da direita na variavel da esquerda\n",
        "\n",
        "{ } - idade = 35; ***//Atribui o valoor 35 à variável idade ***\n",
        "\n",
        "**Operador Aritméticos**\n",
        "\n",
        "  - Nos permitem fazer operações matematicas, retornando o resultado da operação.\n",
        "   \n",
        "    { } | 10 + 15 |  //Soma -> 25\n",
        "    \n",
        "    { } | 10 - 15 |  //Subtração -> 5\n",
        "    \n",
        "    { } | 10 * 15 |  //Multiplicação -> 150\n",
        "    \n",
        "    { } | 15 / 10 |  //Divisão -> 1.5"
      ],
      "metadata": {
        "id": "3D3V-pocZppt"
      }
    },
    {
      "cell_type": "markdown",
      "source": [
        "*OPERADOR - Continuação*\n",
        "\n",
        "  { } 15 ++  // Aumento, é igual a 15 + 1\n",
        "  \n",
        "  { } 15 --  // Decremento, é igual  15 - 1\n",
        "\n",
        "\n",
        "  { } 15 % 5 //Modulo, o resto de dividir 15 entre 5\n",
        "\n",
        "  { } 15 % 2 //Modulo, o resto de dividir 15 entre 2\n",
        "\n",
        "\n",
        "  15 |3_    \n",
        "  \n",
        "  0---3         \n",
        "\n",
        "  15 |2_\n",
        "  \n",
        "  1---7"
      ],
      "metadata": {
        "id": "EzCmo2d-fwdl"
      }
    },
    {
      "cell_type": "code",
      "source": [
        "%%gcc\n",
        "#include <stdio.h>\n",
        "#include <locale.h>\n",
        "\n",
        "int main() {\n",
        "    setlocale(LC_ALL,\"Portuguese\");\n",
        "\n",
        "    int x;\n",
        "    x = 10;\n",
        "    x++;\n",
        "\n",
        "    return 0;\n",
        "}"
      ],
      "metadata": {
        "id": "5mhR-VWFiZ7P"
      },
      "execution_count": null,
      "outputs": []
    },
    {
      "cell_type": "markdown",
      "source": [
        "*_FUNÇÃO DE ENTRADA_*\n",
        "\n"
      ],
      "metadata": {
        "id": "8-8Do-2t41qX"
      }
    },
    {
      "cell_type": "markdown",
      "source": [
        "      Python //  valor = input('Mensagem')\n",
        "\n",
        "       C    // scanf_s(\"%i\", &xvalor); - | - scanf(\"%i\" , &valor);\n",
        "\n",
        "       C    // scanf_s(\"%i\", &valor);\n",
        "\n",
        "\n",
        "        Tipos de dado. Ver tabela\n",
        "\n",
        "        Nome da variável\n",
        "\n",
        "        & - indica o endereço da variável na memória"
      ],
      "metadata": {
        "id": "q8hj-wjI4831"
      }
    },
    {
      "cell_type": "markdown",
      "source": [
        "*EXERCÍCIO*\n",
        "\n",
        "Desenvolva um algoritmo que solicite ao usuárioo doi números inteiros. imprima a soma destes dois números na tela\n",
        "\n",
        "      PYTHON - x = int(input('Digite um número inteiro:'))\n",
        "               y = int(input('digite outro número inteiro:'))\n",
        "\n",
        "               # Maneira clássica\n",
        "               res = 'O resultado da soma de %ti com %i é %i.' %(x, y, x + y)\n",
        "               print(res)"
      ],
      "metadata": {
        "id": "coiWMdQ27-cb"
      }
    },
    {
      "cell_type": "markdown",
      "source": [
        "*OPERAÇÃO DE COMPARAÇÃO*\n",
        "\n",
        "\n",
        "\n"
      ],
      "metadata": {
        "id": "qmww_xRo-pWA"
      }
    },
    {
      "cell_type": "markdown",
      "source": [
        "        {} 10 == 15;   // Igualdade -> Falso\n",
        "\n",
        "        {} 10 != 15;  // Desigualdade -> Verrdadeiro\n",
        "\n",
        "        {} 10 > 15;   // maior que -> Falso\n",
        "        \n",
        "        {} 10 >= 15;  // Maior ou igual que -> Verdadeiro\n",
        "\n",
        "        {} 10 < 15;   // Menor que -> Verdadeiro\n",
        "\n",
        "        {} 10 <= 15;  // Menor ou igual que  -> Verdadeiro\n",
        "\n",
        "\n",
        "*OPERADORES LÓGICOS*\n",
        "\n",
        "  - Permitem combinar valores booleanos, e o resultado tambem retorna um booleano.\n",
        "  - Existem três operadores *e* (and) , *ou* (or),*negação* (not).\n",
        "       \n",
        "        ---------------------------------------\n",
        "        |Python| --> |  and  |   or   |  not  |\n",
        "        ---------------------------------------\n",
        "        |  C   | --> |  &&   |   ||   |   !   |\n",
        "        ---------------------------------------\n",
        "\n",
        "  - *E (AND)* - Todos os valores devem ser VERDADEIROS para que ele seja VERDADERIO\n",
        "\n",
        "        {} | (10 > 15) && (10 != 20)\n",
        "            |falso|-|falso|-|Verdade|\n",
        "\n",
        "        {} | (12 % 4 == 0) && ( 12 != 24)\n",
        "            |Verdadeiro|-|Veradade|-|Verdade|\n",
        "\n",
        "  -*OU (OR)* -Ao menos um valor deve ser VERADADEIRO.\n",
        "        {} | (10 > 15) || (10 !=20)\n",
        "            |Falso|-->|Verdade|<--|Verdade|\n",
        "        {} | (12 % 4 == 0) || ( 12 != 24)\n",
        "            |Verdade|-->|Verdade|<--|Verdade|\n",
        "  \n",
        "  -*NEGAÇÃO (NOT)* - NEGA a condição, se era verdadeira torna-se falsa e vice-versa.\n",
        "          | / !1   // Falso\n",
        "        {}|\n",
        "          | / !(10 > 15) // Verdadeiro"
      ],
      "metadata": {
        "id": "uxN9m0E7JGhG"
      }
    },
    {
      "cell_type": "markdown",
      "source": [
        "***ESTRUTURA DE DECISÃO - IF***\n",
        "\n",
        "  - O comando ***if*** verifica ***SE*** a comparação é verdadeira e executa seu bloco, **caso contrário (else)** executa o bloco do ***else***.\n",
        "\n",
        "        Python\n",
        "\n",
        "        if(condição):\n",
        "          #VERDADEIRO\n",
        "        else:\n",
        "        #FALSO\n",
        "\n",
        "        Linguagem C\n",
        "\n",
        "        if (condição ) {\n",
        "          // código que será executado caso a\n",
        "          // condição seja verdadeira\n",
        "        }\n",
        "        else {\n",
        "          //código que será executado caso a\n",
        "          //condição |nao| seja verdadeira\n",
        "        }\n",
        "\n",
        "***EXERCÍCIO***\n",
        "\n",
        "- Desenvolva um algoritmo que descobre se um número é par ou impar.\n",
        "      Exemplo Python:\n",
        "      #par ou ímpar\n",
        "      x = int(input('Digite um valor inteiro:'))\n",
        "      if (x % 2 == 0):\n",
        "        print('O número é par!')\n",
        "      else:\n",
        "        print('O número é ímpar!')"
      ],
      "metadata": {
        "id": "WQe51eEiToTD"
      }
    }
  ]
}